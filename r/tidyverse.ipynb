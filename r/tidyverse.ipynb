{
 "cells": [
  {
   "cell_type": "markdown",
   "metadata": {
    "vscode": {
     "languageId": "r"
    }
   },
   "source": [
    "# Tidyverse\n",
    "\n",
    "The tidyverse is a set of packages that expand the core functionalities of R by making data wrangling\n",
    "and visualization more friendly. \n",
    "\n",
    "Its main libraries are dplyer, tidyr and ggplot2.\n",
    "\n",
    "In this notebook, we'll try some functionalities of tidyverse, and some other related packages."
   ]
  },
  {
   "cell_type": "code",
   "execution_count": 106,
   "metadata": {
    "vscode": {
     "languageId": "r"
    }
   },
   "outputs": [],
   "source": [
    "library(tidyverse)"
   ]
  },
  {
   "cell_type": "markdown",
   "metadata": {
    "vscode": {
     "languageId": "r"
    }
   },
   "source": [
    "### MBTI Dataset\n",
    "\n",
    "This dataset was extracted from Kaggle, and it shows MBTI personality type along with Age, Gender, Education and Scores for personality traits."
   ]
  },
  {
   "cell_type": "code",
   "execution_count": 109,
   "metadata": {
    "vscode": {
     "languageId": "r"
    }
   },
   "outputs": [
    {
     "data": {
      "text/plain": [
       "  Age Gender Education Introversion.Score Sensing.Score Thinking.Score Judging.Score Interest Personality\n",
       "1  21 Female         1            5.89208      2.144395        7.32363      5.462224     Arts        ENTP\n",
       "2  24 Female         1            2.48366      3.206188        8.06876      3.765012  Unknown        INTP\n",
       "3  26 Female         1            7.02910      6.469302        4.16472      5.454442   Others        ESFP\n",
       "4  30   Male         0            5.46525      4.179244        2.82487      5.080477   Sports        ENFJ\n",
       "5  31 Female         0            3.59804      6.189259        5.31347      3.677984   Others        ISFP"
      ]
     },
     "execution_count": null,
     "metadata": {},
     "output_type": "execute_result"
    }
   ],
   "source": [
    "df <- read.csv('mbti_data.csv')\n",
    "df[1:5,]"
   ]
  },
  {
   "cell_type": "code",
   "execution_count": 111,
   "metadata": {
    "vscode": {
     "languageId": "r"
    }
   },
   "outputs": [
    {
     "data": {
      "text/plain": [
       "\u001b[38;5;246m# A tibble: 5 × 5\u001b[39m\n",
       "  Interest   Thinking Judging Sensing Introversion\n",
       "  \u001b[3m\u001b[38;5;246m<chr>\u001b[39m\u001b[23m         \u001b[3m\u001b[38;5;246m<dbl>\u001b[39m\u001b[23m   \u001b[3m\u001b[38;5;246m<dbl>\u001b[39m\u001b[23m   \u001b[3m\u001b[38;5;246m<dbl>\u001b[39m\u001b[23m        \u001b[3m\u001b[38;5;246m<dbl>\u001b[39m\u001b[23m\n",
       "\u001b[38;5;250m1\u001b[39m Arts           5.35    5.37    5.77         4.58\n",
       "\u001b[38;5;250m2\u001b[39m Others         5.47    5.40    5.78         4.58\n",
       "\u001b[38;5;250m3\u001b[39m Sports         5.42    5.42    5.80         4.60\n",
       "\u001b[38;5;250m4\u001b[39m Technology     5.45    5.40    5.75         4.64\n",
       "\u001b[38;5;250m5\u001b[39m Unknown        5.42    5.38    5.79         4.58"
      ]
     },
     "execution_count": null,
     "metadata": {},
     "output_type": "execute_result"
    }
   ],
   "source": [
    "df_interest <- df %>%\n",
    "    group_by(Interest) %>%\n",
    "    summarise(Thinking = mean(Thinking.Score), Judging=mean(Judging.Score), Sensing=mean(Sensing.Score), Introversion=mean(Introversion.Score))\n",
    "\n",
    "df_interest"
   ]
  },
  {
   "cell_type": "markdown",
   "metadata": {
    "vscode": {
     "languageId": "r"
    }
   },
   "source": [
    "In order to check if the personality scores follow normal distributions, we apply the Anderson-Darling test to each Score column. It is an alternative to Shapiro-Wilk's test for big (n > 5000) datasets. "
   ]
  },
  {
   "cell_type": "code",
   "execution_count": 113,
   "metadata": {
    "vscode": {
     "languageId": "r"
    }
   },
   "outputs": [
    {
     "name": "stdout",
     "output_type": "stream",
     "text": [
      "[1] \"Thinking.Score\"\n",
      "\n",
      "\tAnderson-Darling normality test\n",
      "\n",
      "data:  df[[column]]\n",
      "A = 618.11, p-value < 2.2e-16\n",
      "\n",
      "[1] \"Judging.Score\"\n",
      "\n",
      "\tAnderson-Darling normality test\n",
      "\n",
      "data:  df[[column]]\n",
      "A = 801.46, p-value < 2.2e-16\n",
      "\n",
      "[1] \"Sensing.Score\"\n",
      "\n",
      "\tAnderson-Darling normality test\n",
      "\n",
      "data:  df[[column]]\n",
      "A = 742.06, p-value < 2.2e-16\n",
      "\n",
      "[1] \"Introversion.Score\"\n",
      "\n",
      "\tAnderson-Darling normality test\n",
      "\n",
      "data:  df[[column]]\n",
      "A = 605.83, p-value < 2.2e-16\n",
      "\n"
     ]
    }
   ],
   "source": [
    "library(nortest)\n",
    "\n",
    "for (column in c(\"Thinking.Score\", \"Judging.Score\", \"Sensing.Score\", \"Introversion.Score\"))\n",
    "{\n",
    "  results = ad.test(df[[column]])\n",
    "  print(column)\n",
    "  print(results)\n",
    "}"
   ]
  },
  {
   "cell_type": "markdown",
   "metadata": {},
   "source": [
    "Note: given the extremely low p-values, they provide a strong evidence against the normality of distributions. As such, we'll not consider the distributions as normal, and we'll apply non-parametric tests to the data."
   ]
  },
  {
   "cell_type": "markdown",
   "metadata": {
    "vscode": {
     "languageId": "r"
    }
   },
   "source": [
    "In order to compare if the difference of thinking score means across the different interest groups is significant, we apply Kruskal-Wallis test to scores and interests.\n",
    "\n",
    "It is a non-parametric test for comparing the distributions of a continuous variable from more than two independent groups, suitable since the scores do not follow a normal distribution."
   ]
  },
  {
   "cell_type": "code",
   "execution_count": 114,
   "metadata": {
    "vscode": {
     "languageId": "r"
    }
   },
   "outputs": [
    {
     "name": "stdout",
     "output_type": "stream",
     "text": [
      "[1] \"Thinking.Score\"\n",
      "\n",
      "\tKruskal-Wallis rank sum test\n",
      "\n",
      "data:  Thinking.Score by Interest\n",
      "Kruskal-Wallis chi-squared = 8.2643, df = 4, p-value = 0.08236\n",
      "\n",
      "[1] \"Judging.Score\"\n",
      "\n",
      "\tKruskal-Wallis rank sum test\n",
      "\n",
      "data:  Judging.Score by Interest\n",
      "Kruskal-Wallis chi-squared = 66.408, df = 4, p-value = 1.299e-13\n",
      "\n",
      "[1] \"Sensing.Score\"\n",
      "\n",
      "\tKruskal-Wallis rank sum test\n",
      "\n",
      "data:  Sensing.Score by Interest\n",
      "Kruskal-Wallis chi-squared = 8.0385, df = 4, p-value = 0.09018\n",
      "\n",
      "[1] \"Introversion.Score\"\n",
      "\n",
      "\tKruskal-Wallis rank sum test\n",
      "\n",
      "data:  Introversion.Score by Interest\n",
      "Kruskal-Wallis chi-squared = 2.1265, df = 4, p-value = 0.7125\n",
      "\n"
     ]
    }
   ],
   "source": [
    "df$Interest <- as.factor(df$Interest)\n",
    "\n",
    "for (column in c(\"Thinking.Score\", \"Judging.Score\", \"Sensing.Score\", \"Introversion.Score\")) {\n",
    "  \n",
    "  print(column)\n",
    "  \n",
    "  df[[column]] <- as.numeric(df[[column]])\n",
    "  \n",
    "  result <- kruskal.test(as.formula(paste(column, \"~ Interest\")), data = df)\n",
    "  print(result)\n",
    "}\n"
   ]
  },
  {
   "cell_type": "markdown",
   "metadata": {
    "vscode": {
     "languageId": "r"
    }
   },
   "source": [
    "Note: The only column showing significant p-value is Judging.Score. All the others provide weak evidence to the hypotheses that interest groups show different distributions of scores, specially Introversion.Score. It suggests that Judging is the best predictor of interests, and introversion, the worst."
   ]
  },
  {
   "cell_type": "markdown",
   "metadata": {
    "vscode": {
     "languageId": "r"
    }
   },
   "source": [
    "Note: This examples show that using statiscal functions in R is potentially more convenient than in Python. "
   ]
  },
  {
   "cell_type": "markdown",
   "metadata": {},
   "source": [
    "### Ggplot2\n",
    "\n",
    "Ggplot is a plotting library with a syntax derived from \"The Grammar of Graphics\" book, which allows for building plots intuitively.\n",
    "\n",
    "In the example below, we build a distribution plot additively with Ggplot's syntax."
   ]
  },
  {
   "cell_type": "code",
   "execution_count": null,
   "metadata": {
    "vscode": {
     "languageId": "r"
    }
   },
   "outputs": [],
   "source": [
    "df %>%\n",
    "  ggplot() +\n",
    "  aes(x=Sensing.Score) +\n",
    "  geom_density(alpha = 0.7) + \n",
    "  geom_histogram(aes(y=after_stat(density)), \n",
    "                    fill=\"cyan\",\n",
    "                    bins=9, \n",
    "                    alpha=0.8) +\n",
    "  ggtitle(\"Distribution plot Example\") + \n",
    "    theme(panel.background=element_rect(\"white\"),\n",
    "          plot.title = element_text(hjust = 0.5))"
   ]
  },
  {
   "cell_type": "markdown",
   "metadata": {
    "vscode": {
     "languageId": "r"
    }
   },
   "source": [
    "### Further Examples"
   ]
  },
  {
   "cell_type": "markdown",
   "metadata": {},
   "source": [
    "The examples below have been extracted from the book \"Manual de Análise de Dados: Estatística e Machine Learning com Excel, SPSS, Stata, R e Python\" from Luiz Flávio Fávero and Patrícia Belfiore. It was included here for being instructive of R capabilities."
   ]
  },
  {
   "cell_type": "code",
   "execution_count": 115,
   "metadata": {
    "vscode": {
     "languageId": "r"
    }
   },
   "outputs": [],
   "source": [
    "library(\"e1071\")\n",
    "library(\"questionr\")"
   ]
  },
  {
   "cell_type": "code",
   "execution_count": 116,
   "metadata": {
    "vscode": {
     "languageId": "r"
    }
   },
   "outputs": [
    {
     "data": {
      "text/plain": [
       "\u001b[38;5;246m# A tibble: 6 × 1\u001b[39m\n",
       "  preço\n",
       "  \u001b[3m\u001b[38;5;246m<dbl>\u001b[39m\u001b[23m\n",
       "\u001b[38;5;250m1\u001b[39m  18.7\n",
       "\u001b[38;5;250m2\u001b[39m  18.3\n",
       "\u001b[38;5;250m3\u001b[39m  18.4\n",
       "\u001b[38;5;250m4\u001b[39m  18.7\n",
       "\u001b[38;5;250m5\u001b[39m  18.8\n",
       "\u001b[38;5;250m6\u001b[39m  18.8"
      ]
     },
     "execution_count": null,
     "metadata": {},
     "output_type": "execute_result"
    }
   ],
   "source": [
    "load(file=\"Cotações.RData\")\n",
    "head(Cotações)"
   ]
  },
  {
   "cell_type": "markdown",
   "metadata": {
    "vscode": {
     "languageId": "r"
    }
   },
   "source": [
    "### Summary Statistical Functions"
   ]
  },
  {
   "cell_type": "code",
   "execution_count": 117,
   "metadata": {
    "vscode": {
     "languageId": "r"
    }
   },
   "outputs": [
    {
     "data": {
      "text/plain": [
       "   Min. 1st Qu.  Median    Mean 3rd Qu.    Max. \n",
       "  16.90   18.18   18.50   18.48   18.80   19.90 "
      ]
     },
     "execution_count": null,
     "metadata": {},
     "output_type": "execute_result"
    }
   ],
   "source": [
    "summary(Cotações$preço)"
   ]
  },
  {
   "cell_type": "code",
   "execution_count": 118,
   "metadata": {
    "vscode": {
     "languageId": "r"
    }
   },
   "outputs": [
    {
     "data": {
      "text/plain": [
       "[1] 18.475"
      ]
     },
     "execution_count": null,
     "metadata": {},
     "output_type": "execute_result"
    }
   ],
   "source": [
    "mean(Cotações$preço)"
   ]
  },
  {
   "cell_type": "code",
   "execution_count": 119,
   "metadata": {
    "vscode": {
     "languageId": "r"
    }
   },
   "outputs": [
    {
     "data": {
      "text/plain": [
       "[1] 18.5"
      ]
     },
     "execution_count": null,
     "metadata": {},
     "output_type": "execute_result"
    }
   ],
   "source": [
    "median(Cotações$preço)"
   ]
  },
  {
   "cell_type": "code",
   "execution_count": 120,
   "metadata": {
    "vscode": {
     "languageId": "r"
    }
   },
   "outputs": [
    {
     "data": {
      "text/plain": [
       " 70% \n",
       "18.8 "
      ]
     },
     "execution_count": null,
     "metadata": {},
     "output_type": "execute_result"
    }
   ],
   "source": [
    "quantile(Cotações$preço, 0.70)"
   ]
  },
  {
   "cell_type": "code",
   "execution_count": 121,
   "metadata": {
    "vscode": {
     "languageId": "r"
    }
   },
   "outputs": [
    {
     "data": {
      "text/plain": [
       "[1] 0.6323515"
      ]
     },
     "execution_count": null,
     "metadata": {},
     "output_type": "execute_result"
    }
   ],
   "source": [
    "sd(Cotações$preço)"
   ]
  },
  {
   "cell_type": "code",
   "execution_count": 122,
   "metadata": {
    "vscode": {
     "languageId": "r"
    }
   },
   "outputs": [
    {
     "data": {
      "text/plain": [
       "[1] 0.3998684"
      ]
     },
     "execution_count": null,
     "metadata": {},
     "output_type": "execute_result"
    }
   ],
   "source": [
    "var(Cotações$preço)"
   ]
  },
  {
   "cell_type": "code",
   "execution_count": 123,
   "metadata": {
    "vscode": {
     "languageId": "r"
    }
   },
   "outputs": [
    {
     "data": {
      "text/plain": [
       "[1] -0.3118111"
      ]
     },
     "execution_count": null,
     "metadata": {},
     "output_type": "execute_result"
    }
   ],
   "source": [
    "skewness(Cotações$preço) #from e1071 library"
   ]
  },
  {
   "cell_type": "code",
   "execution_count": 124,
   "metadata": {
    "vscode": {
     "languageId": "r"
    }
   },
   "outputs": [
    {
     "data": {
      "text/plain": [
       "[1] 0.6628825"
      ]
     },
     "execution_count": null,
     "metadata": {},
     "output_type": "execute_result"
    }
   ],
   "source": [
    "kurtosis(Cotações$preço) #from e1071 library"
   ]
  },
  {
   "cell_type": "markdown",
   "metadata": {
    "vscode": {
     "languageId": "r"
    }
   },
   "source": [
    "### Plots"
   ]
  },
  {
   "cell_type": "code",
   "execution_count": null,
   "metadata": {
    "vscode": {
     "languageId": "r"
    }
   },
   "outputs": [],
   "source": [
    "hist(Cotações$preço)"
   ]
  },
  {
   "cell_type": "code",
   "execution_count": null,
   "metadata": {
    "vscode": {
     "languageId": "r"
    }
   },
   "outputs": [],
   "source": [
    "Cotações %>%\n",
    "  ggplot(aes(x=preço)) + \n",
    "\n",
    "  geom_histogram(aes(y = ..density..),\n",
    "    color=\"grey50\",\n",
    "    fill=\"darkorchid\",\n",
    "    bins=7,\n",
    "    alpha=0.6) + \n",
    "  \n",
    "  stat_function(fun = dnorm, \n",
    "      args=list(mean=mean(Cotações$preço),\n",
    "                sd = sd(Cotações$preço)),\n",
    "      aes(color = \"Curva Normal Teórica\"),\n",
    "      linewidth=2) +\n",
    "  \n",
    "  geom_density(linewidth=2,\n",
    "    aes(color = \"Curva KDE estimada\")) +\n",
    "  \n",
    "  labs(x=\"Preço\", y=\"Frequência\") + \n",
    "  \n",
    "  theme(panel.background = element_rect(\"white\"),\n",
    "    panel.grid=element_line(\"grey95\"),\n",
    "    panel.border=element_rect(NA),\n",
    "    legend.position=\"bottom\",\n",
    "    plot.title=element_text(hjust=0.5, \n",
    "                            size=15)) +\n",
    "  \n",
    "  ggtitle(\"Histograma de preço com curva normal\")"
   ]
  },
  {
   "cell_type": "markdown",
   "metadata": {
    "vscode": {
     "languageId": "r"
    }
   },
   "source": [
    "It should be noted that the example above is considerably complex. It shows that ggplot2 can be very flexible and that it accepts many parameters."
   ]
  },
  {
   "cell_type": "code",
   "execution_count": 125,
   "metadata": {
    "vscode": {
     "languageId": "r"
    }
   },
   "outputs": [
    {
     "name": "stdout",
     "output_type": "stream",
     "text": [
      "\n",
      "  The decimal point is at the |\n",
      "\n",
      "  16 | 9\n",
      "  17 | 59\n",
      "  18 | 11233455778889\n",
      "  19 | 119\n",
      "\n"
     ]
    }
   ],
   "source": [
    "stem(Cotações$preço)"
   ]
  },
  {
   "cell_type": "code",
   "execution_count": null,
   "metadata": {
    "vscode": {
     "languageId": "r"
    }
   },
   "outputs": [],
   "source": [
    "Cotações %>%\n",
    "  ggplot(aes(y = preço, x = \"\")) +\n",
    "  geom_boxplot(fill = \"lightblue\",\n",
    "               alpha = 0.7,\n",
    "               color = \"black\",\n",
    "               outlier.colour = \"red\",\n",
    "               outlier.shape = 15,\n",
    "               outlier.size = 2.5) +\n",
    "  labs(y = \"Preço\") +\n",
    "  theme(panel.background = element_rect(\"white\"),\n",
    "        panel.grid = element_line(\"grey95\"),\n",
    "        panel.border = element_rect(NA),\n",
    "        legend.position=\"none\",\n",
    "        plot.title = element_text(size=15)\n",
    "        ) +\n",
    "  ggtitle(\"Boxplot de preço com ggplot\") +\n",
    "  xlab(\"\")"
   ]
  },
  {
   "cell_type": "markdown",
   "metadata": {
    "vscode": {
     "languageId": "r"
    }
   },
   "source": [
    "Once again, the example provided seems to be less convenient to be built than in Python (seaborn). It should be taken into consideration, however, the amount of optional parameters used. A more practical example is the following: "
   ]
  },
  {
   "cell_type": "code",
   "execution_count": null,
   "metadata": {
    "vscode": {
     "languageId": "r"
    }
   },
   "outputs": [],
   "source": [
    "Cotações %>%\n",
    "  ggplot(aes(y = preço, x = \"\")) +\n",
    "  geom_boxplot(fill = \"lightblue\") +\n",
    "  theme(panel.background = element_rect(\"white\")) + \n",
    "  labs(y = \"Preço\") +\n",
    "  ggtitle(\"Boxplot de preço com ggplot\")"
   ]
  },
  {
   "cell_type": "markdown",
   "metadata": {
    "vscode": {
     "languageId": "r"
    }
   },
   "source": [
    "Note: It still seems that seaborn is easier to use, specially when the user can leverage its flexibility along with matplotlib."
   ]
  }
 ],
 "metadata": {
  "kernelspec": {
   "display_name": "R",
   "language": "R",
   "name": "ir"
  },
  "language_info": {
   "codemirror_mode": "r",
   "file_extension": ".r",
   "mimetype": "text/x-r-source",
   "name": "R",
   "pygments_lexer": "r",
   "version": "4.4.2"
  }
 },
 "nbformat": 4,
 "nbformat_minor": 2
}
