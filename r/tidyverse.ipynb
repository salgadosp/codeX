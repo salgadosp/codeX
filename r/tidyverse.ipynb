{
 "cells": [
  {
   "cell_type": "markdown",
   "metadata": {
    "vscode": {
     "languageId": "r"
    }
   },
   "source": [
    "# Tidyverse\n",
    "\n",
    "The tidyverse is a set of packages that expand the core functionalities of R by making data wrangling\n",
    "and visualization more friendly. \n",
    "\n",
    "Its main libraries are dplyer, tidyr and ggplot2.\n",
    "\n",
    "In this notebook, we'll try some functionalities of tidyverse."
   ]
  },
  {
   "cell_type": "code",
   "execution_count": 49,
   "metadata": {
    "vscode": {
     "languageId": "r"
    }
   },
   "outputs": [],
   "source": [
    "library(tidyverse)"
   ]
  },
  {
   "cell_type": "markdown",
   "metadata": {
    "vscode": {
     "languageId": "r"
    }
   },
   "source": [
    "### MBTI Dataset\n",
    "\n",
    "This dataset was extracted from Kaggle, and it shows MBTI personality type along with Age, Gender, Education and Scores for personality traits."
   ]
  },
  {
   "cell_type": "code",
   "execution_count": null,
   "metadata": {
    "vscode": {
     "languageId": "r"
    }
   },
   "outputs": [
    {
     "data": {
      "text/html": [
       "<table class=\"dataframe\">\n",
       "<caption>A data.frame: 10 × 9</caption>\n",
       "<thead>\n",
       "\t<tr><th></th><th scope=col>Age</th><th scope=col>Gender</th><th scope=col>Education</th><th scope=col>Introversion.Score</th><th scope=col>Sensing.Score</th><th scope=col>Thinking.Score</th><th scope=col>Judging.Score</th><th scope=col>Interest</th><th scope=col>Personality</th></tr>\n",
       "\t<tr><th></th><th scope=col>&lt;dbl&gt;</th><th scope=col>&lt;chr&gt;</th><th scope=col>&lt;int&gt;</th><th scope=col>&lt;dbl&gt;</th><th scope=col>&lt;dbl&gt;</th><th scope=col>&lt;dbl&gt;</th><th scope=col>&lt;dbl&gt;</th><th scope=col>&lt;chr&gt;</th><th scope=col>&lt;chr&gt;</th></tr>\n",
       "</thead>\n",
       "<tbody>\n",
       "\t<tr><th scope=row>1</th><td>21</td><td>Female</td><td>1</td><td>5.89208</td><td>2.144395</td><td>7.32363</td><td>5.462224</td><td>Arts      </td><td>ENTP</td></tr>\n",
       "\t<tr><th scope=row>2</th><td>24</td><td>Female</td><td>1</td><td>2.48366</td><td>3.206188</td><td>8.06876</td><td>3.765012</td><td>Unknown   </td><td>INTP</td></tr>\n",
       "\t<tr><th scope=row>3</th><td>26</td><td>Female</td><td>1</td><td>7.02910</td><td>6.469302</td><td>4.16472</td><td>5.454442</td><td>Others    </td><td>ESFP</td></tr>\n",
       "\t<tr><th scope=row>4</th><td>30</td><td>Male  </td><td>0</td><td>5.46525</td><td>4.179244</td><td>2.82487</td><td>5.080477</td><td>Sports    </td><td>ENFJ</td></tr>\n",
       "\t<tr><th scope=row>5</th><td>31</td><td>Female</td><td>0</td><td>3.59804</td><td>6.189259</td><td>5.31347</td><td>3.677984</td><td>Others    </td><td>ISFP</td></tr>\n",
       "\t<tr><th scope=row>6</th><td>33</td><td>Female</td><td>0</td><td>1.06869</td><td>7.143507</td><td>3.84411</td><td>6.347241</td><td>Sports    </td><td>ISFJ</td></tr>\n",
       "\t<tr><th scope=row>7</th><td>32</td><td>Female</td><td>0</td><td>6.29802</td><td>6.223903</td><td>7.90633</td><td>6.705588</td><td>Arts      </td><td>ESTJ</td></tr>\n",
       "\t<tr><th scope=row>8</th><td>27</td><td>Male  </td><td>1</td><td>3.98957</td><td>4.406797</td><td>5.09055</td><td>5.556500</td><td>Technology</td><td>INFP</td></tr>\n",
       "\t<tr><th scope=row>9</th><td>30</td><td>Male  </td><td>0</td><td>1.55058</td><td>6.652428</td><td>0.57707</td><td>6.919573</td><td>Unknown   </td><td>ISFJ</td></tr>\n",
       "\t<tr><th scope=row>10</th><td>26</td><td>Female</td><td>1</td><td>7.02255</td><td>6.929234</td><td>9.49484</td><td>6.052261</td><td>Arts      </td><td>ESTP</td></tr>\n",
       "</tbody>\n",
       "</table>\n"
      ],
      "text/latex": [
       "A data.frame: 10 × 9\n",
       "\\begin{tabular}{r|lllllllll}\n",
       "  & Age & Gender & Education & Introversion.Score & Sensing.Score & Thinking.Score & Judging.Score & Interest & Personality\\\\\n",
       "  & <dbl> & <chr> & <int> & <dbl> & <dbl> & <dbl> & <dbl> & <chr> & <chr>\\\\\n",
       "\\hline\n",
       "\t1 & 21 & Female & 1 & 5.89208 & 2.144395 & 7.32363 & 5.462224 & Arts       & ENTP\\\\\n",
       "\t2 & 24 & Female & 1 & 2.48366 & 3.206188 & 8.06876 & 3.765012 & Unknown    & INTP\\\\\n",
       "\t3 & 26 & Female & 1 & 7.02910 & 6.469302 & 4.16472 & 5.454442 & Others     & ESFP\\\\\n",
       "\t4 & 30 & Male   & 0 & 5.46525 & 4.179244 & 2.82487 & 5.080477 & Sports     & ENFJ\\\\\n",
       "\t5 & 31 & Female & 0 & 3.59804 & 6.189259 & 5.31347 & 3.677984 & Others     & ISFP\\\\\n",
       "\t6 & 33 & Female & 0 & 1.06869 & 7.143507 & 3.84411 & 6.347241 & Sports     & ISFJ\\\\\n",
       "\t7 & 32 & Female & 0 & 6.29802 & 6.223903 & 7.90633 & 6.705588 & Arts       & ESTJ\\\\\n",
       "\t8 & 27 & Male   & 1 & 3.98957 & 4.406797 & 5.09055 & 5.556500 & Technology & INFP\\\\\n",
       "\t9 & 30 & Male   & 0 & 1.55058 & 6.652428 & 0.57707 & 6.919573 & Unknown    & ISFJ\\\\\n",
       "\t10 & 26 & Female & 1 & 7.02255 & 6.929234 & 9.49484 & 6.052261 & Arts       & ESTP\\\\\n",
       "\\end{tabular}\n"
      ],
      "text/markdown": [
       "\n",
       "A data.frame: 10 × 9\n",
       "\n",
       "| <!--/--> | Age &lt;dbl&gt; | Gender &lt;chr&gt; | Education &lt;int&gt; | Introversion.Score &lt;dbl&gt; | Sensing.Score &lt;dbl&gt; | Thinking.Score &lt;dbl&gt; | Judging.Score &lt;dbl&gt; | Interest &lt;chr&gt; | Personality &lt;chr&gt; |\n",
       "|---|---|---|---|---|---|---|---|---|---|\n",
       "| 1 | 21 | Female | 1 | 5.89208 | 2.144395 | 7.32363 | 5.462224 | Arts       | ENTP |\n",
       "| 2 | 24 | Female | 1 | 2.48366 | 3.206188 | 8.06876 | 3.765012 | Unknown    | INTP |\n",
       "| 3 | 26 | Female | 1 | 7.02910 | 6.469302 | 4.16472 | 5.454442 | Others     | ESFP |\n",
       "| 4 | 30 | Male   | 0 | 5.46525 | 4.179244 | 2.82487 | 5.080477 | Sports     | ENFJ |\n",
       "| 5 | 31 | Female | 0 | 3.59804 | 6.189259 | 5.31347 | 3.677984 | Others     | ISFP |\n",
       "| 6 | 33 | Female | 0 | 1.06869 | 7.143507 | 3.84411 | 6.347241 | Sports     | ISFJ |\n",
       "| 7 | 32 | Female | 0 | 6.29802 | 6.223903 | 7.90633 | 6.705588 | Arts       | ESTJ |\n",
       "| 8 | 27 | Male   | 1 | 3.98957 | 4.406797 | 5.09055 | 5.556500 | Technology | INFP |\n",
       "| 9 | 30 | Male   | 0 | 1.55058 | 6.652428 | 0.57707 | 6.919573 | Unknown    | ISFJ |\n",
       "| 10 | 26 | Female | 1 | 7.02255 | 6.929234 | 9.49484 | 6.052261 | Arts       | ESTP |\n",
       "\n"
      ],
      "text/plain": [
       "   Age Gender Education Introversion.Score Sensing.Score Thinking.Score\n",
       "1  21  Female 1         5.89208            2.144395      7.32363       \n",
       "2  24  Female 1         2.48366            3.206188      8.06876       \n",
       "3  26  Female 1         7.02910            6.469302      4.16472       \n",
       "4  30  Male   0         5.46525            4.179244      2.82487       \n",
       "5  31  Female 0         3.59804            6.189259      5.31347       \n",
       "6  33  Female 0         1.06869            7.143507      3.84411       \n",
       "7  32  Female 0         6.29802            6.223903      7.90633       \n",
       "8  27  Male   1         3.98957            4.406797      5.09055       \n",
       "9  30  Male   0         1.55058            6.652428      0.57707       \n",
       "10 26  Female 1         7.02255            6.929234      9.49484       \n",
       "   Judging.Score Interest   Personality\n",
       "1  5.462224      Arts       ENTP       \n",
       "2  3.765012      Unknown    INTP       \n",
       "3  5.454442      Others     ESFP       \n",
       "4  5.080477      Sports     ENFJ       \n",
       "5  3.677984      Others     ISFP       \n",
       "6  6.347241      Sports     ISFJ       \n",
       "7  6.705588      Arts       ESTJ       \n",
       "8  5.556500      Technology INFP       \n",
       "9  6.919573      Unknown    ISFJ       \n",
       "10 6.052261      Arts       ESTP       "
      ]
     },
     "metadata": {},
     "output_type": "display_data"
    }
   ],
   "source": [
    "df <- read.csv('mbti_data.csv')\n",
    "df[1:10,]"
   ]
  },
  {
   "cell_type": "code",
   "execution_count": 51,
   "metadata": {
    "vscode": {
     "languageId": "r"
    }
   },
   "outputs": [
    {
     "data": {
      "text/html": [
       "<table class=\"dataframe\">\n",
       "<caption>A tibble: 5 × 5</caption>\n",
       "<thead>\n",
       "\t<tr><th scope=col>Interest</th><th scope=col>Thinking</th><th scope=col>Judging</th><th scope=col>Sensing</th><th scope=col>Introversion</th></tr>\n",
       "\t<tr><th scope=col>&lt;chr&gt;</th><th scope=col>&lt;dbl&gt;</th><th scope=col>&lt;dbl&gt;</th><th scope=col>&lt;dbl&gt;</th><th scope=col>&lt;dbl&gt;</th></tr>\n",
       "</thead>\n",
       "<tbody>\n",
       "\t<tr><td>Arts      </td><td>5.351749</td><td>5.369119</td><td>5.768447</td><td>4.579942</td></tr>\n",
       "\t<tr><td>Others    </td><td>5.468157</td><td>5.398094</td><td>5.780460</td><td>4.578463</td></tr>\n",
       "\t<tr><td>Sports    </td><td>5.422593</td><td>5.419587</td><td>5.795796</td><td>4.596423</td></tr>\n",
       "\t<tr><td>Technology</td><td>5.453600</td><td>5.402925</td><td>5.748913</td><td>4.635589</td></tr>\n",
       "\t<tr><td>Unknown   </td><td>5.419282</td><td>5.382243</td><td>5.791372</td><td>4.575054</td></tr>\n",
       "</tbody>\n",
       "</table>\n"
      ],
      "text/latex": [
       "A tibble: 5 × 5\n",
       "\\begin{tabular}{lllll}\n",
       " Interest & Thinking & Judging & Sensing & Introversion\\\\\n",
       " <chr> & <dbl> & <dbl> & <dbl> & <dbl>\\\\\n",
       "\\hline\n",
       "\t Arts       & 5.351749 & 5.369119 & 5.768447 & 4.579942\\\\\n",
       "\t Others     & 5.468157 & 5.398094 & 5.780460 & 4.578463\\\\\n",
       "\t Sports     & 5.422593 & 5.419587 & 5.795796 & 4.596423\\\\\n",
       "\t Technology & 5.453600 & 5.402925 & 5.748913 & 4.635589\\\\\n",
       "\t Unknown    & 5.419282 & 5.382243 & 5.791372 & 4.575054\\\\\n",
       "\\end{tabular}\n"
      ],
      "text/markdown": [
       "\n",
       "A tibble: 5 × 5\n",
       "\n",
       "| Interest &lt;chr&gt; | Thinking &lt;dbl&gt; | Judging &lt;dbl&gt; | Sensing &lt;dbl&gt; | Introversion &lt;dbl&gt; |\n",
       "|---|---|---|---|---|\n",
       "| Arts       | 5.351749 | 5.369119 | 5.768447 | 4.579942 |\n",
       "| Others     | 5.468157 | 5.398094 | 5.780460 | 4.578463 |\n",
       "| Sports     | 5.422593 | 5.419587 | 5.795796 | 4.596423 |\n",
       "| Technology | 5.453600 | 5.402925 | 5.748913 | 4.635589 |\n",
       "| Unknown    | 5.419282 | 5.382243 | 5.791372 | 4.575054 |\n",
       "\n"
      ],
      "text/plain": [
       "  Interest   Thinking Judging  Sensing  Introversion\n",
       "1 Arts       5.351749 5.369119 5.768447 4.579942    \n",
       "2 Others     5.468157 5.398094 5.780460 4.578463    \n",
       "3 Sports     5.422593 5.419587 5.795796 4.596423    \n",
       "4 Technology 5.453600 5.402925 5.748913 4.635589    \n",
       "5 Unknown    5.419282 5.382243 5.791372 4.575054    "
      ]
     },
     "metadata": {},
     "output_type": "display_data"
    }
   ],
   "source": [
    "df_interest <- df %>%\n",
    "    group_by(Interest) %>%\n",
    "    summarise(Thinking = mean(Thinking.Score), Judging=mean(Judging.Score), Sensing=mean(Sensing.Score), Introversion=mean(Introversion.Score))\n",
    "\n",
    "df_interest"
   ]
  },
  {
   "cell_type": "markdown",
   "metadata": {
    "vscode": {
     "languageId": "r"
    }
   },
   "source": [
    "To test if the difference of thinking score means across the different interest groups is significant, we apply ANOVA to scores and interests.\n",
    "\n",
    "This shows us how much R can be more convenient than Python."
   ]
  },
  {
   "cell_type": "code",
   "execution_count": 69,
   "metadata": {
    "vscode": {
     "languageId": "r"
    }
   },
   "outputs": [
    {
     "name": "stdout",
     "output_type": "stream",
     "text": [
      "               Df Sum Sq Mean Sq F value Pr(>F)\n",
      "Interest        4     62  15.504   1.843  0.118\n",
      "Residuals   43739 368016   8.414               \n",
      "               Df Sum Sq Mean Sq F value Pr(>F)\n",
      "Interest        4     12   3.044   1.463  0.211\n",
      "Residuals   43739  90998   2.080               \n",
      "               Df Sum Sq Mean Sq F value Pr(>F)\n",
      "Interest        4     11   2.683    1.74  0.138\n",
      "Residuals   43739  67427   1.542               \n",
      "               Df Sum Sq Mean Sq F value Pr(>F)\n",
      "Interest        4     18   4.492   0.533  0.711\n",
      "Residuals   43739 368528   8.426               \n"
     ]
    }
   ],
   "source": [
    "for (column in c(\"Thinking.Score\", \"Judging.Score\", \"Sensing.Score\", \"Introversion.Score\"))\n",
    "{\n",
    "  paste(column, \"~Interest\") %>%\n",
    "    as.formula() %>%\n",
    "    aov(data = df) %>%\n",
    "    summary() %>%\n",
    "    print()\n",
    "}"
   ]
  },
  {
   "cell_type": "markdown",
   "metadata": {},
   "source": [
    "### Ggplot2\n",
    "\n",
    "Ggplot is a plotting library with a syntax derived from \"The Grammar of Graphics\", which makes it intuitive for plot generation."
   ]
  },
  {
   "cell_type": "code",
   "execution_count": null,
   "metadata": {
    "vscode": {
     "languageId": "r"
    }
   },
   "outputs": [
    {
     "data": {
      "image/png": "[encoded data removed]",
      "text/plain": [
       "plot without title"
      ]
     },
     "metadata": {
      "image/png": {
       "height": 420,
       "width": 420
      }
     },
     "output_type": "display_data"
    }
   ],
   "source": [
    "df %>%\n",
    "ggplot() +\n",
    "aes(x=Judging.Score) +\n",
    "geom_density(fill = \"blue\", alpha = 0.15) +\n",
    "geom_histogram(aes(y=after_stat(density)), fill=\"red\", bins=9, alpha=0.2)"
   ]
  }
 ],
 "metadata": {
  "kernelspec": {
   "display_name": "R",
   "language": "R",
   "name": "ir"
  },
  "language_info": {
   "codemirror_mode": "r",
   "file_extension": ".r",
   "mimetype": "text/x-r-source",
   "name": "R",
   "pygments_lexer": "r",
   "version": "4.4.2"
  }
 },
 "nbformat": 4,
 "nbformat_minor": 2
}
